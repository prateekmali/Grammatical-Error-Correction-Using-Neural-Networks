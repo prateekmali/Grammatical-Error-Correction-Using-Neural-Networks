{
 "cells": [
  {
   "cell_type": "code",
   "execution_count": 1,
   "metadata": {},
   "outputs": [],
   "source": [
    "\n",
    "import import_ipynb\n",
    "# import argparse\n",
    "\n",
    "# parser = argparse.ArgumentParser()\n",
    "# parser.add_argument('--input_path', required=True,\n",
    "#                     help='input path')\n",
    "# parser.add_argument('--output_src', required=True,\n",
    "#                     help='output clean source')\n",
    "# parser.add_argument('--output_trg', required=True,\n",
    "#                     help='output clean target')\n",
    "\n",
    "# args = parser.parse_args()\n",
    "\n",
    "def process(input_path, output_src_path, output_trg_path):\n",
    "    print(input_path)\n",
    "    with open(input_path, 'r') as inputfile, \\\n",
    "            open(output_src_path, 'w') as outx, \\\n",
    "            open(output_trg_path, 'w') as outy:\n",
    "        all_lines = inputfile.readlines()\n",
    "\n",
    "        for line in all_lines:\n",
    "            line = line.split('\\t')\n",
    "            if len(line) == 6:\n",
    "                x, y = line[4], line[5]\n",
    "                outx.write(x.replace('\\n', '') + '\\n')\n",
    "                outy.write(y.replace('\\n', '') + '\\n')\n",
    "            if len(line) == 7:\n",
    "                x, y = line[4], line[6]\n",
    "                outx.write(x.replace('\\n', '') + '\\n')\n",
    "                outy.write(y.replace('\\n', '') + '\\n')\n",
    "            if len(line) == 8:\n",
    "                x, y = line[4], line[7]\n",
    "                outx.write(x.replace('\\n', '') + '\\n')\n",
    "                outy.write(y.replace('\\n', '') + '\\n')\n",
    "\n"
   ]
  },
  {
   "cell_type": "code",
   "execution_count": null,
   "metadata": {},
   "outputs": [],
   "source": []
  }
 ],
 "metadata": {
  "kernelspec": {
   "display_name": "Python (Grammer)",
   "language": "python",
   "name": "grammer"
  },
  "language_info": {
   "codemirror_mode": {
    "name": "ipython",
    "version": 3
   },
   "file_extension": ".py",
   "mimetype": "text/x-python",
   "name": "python",
   "nbconvert_exporter": "python",
   "pygments_lexer": "ipython3",
   "version": "3.6.10"
  }
 },
 "nbformat": 4,
 "nbformat_minor": 2
}
