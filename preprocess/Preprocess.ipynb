{
 "cells": [
  {
   "cell_type": "code",
   "execution_count": 45,
   "metadata": {},
   "outputs": [],
   "source": [
    "ROOT_DIR='/media/ritik/Ritik/cse_work/dl/Grammer'\n",
    "DATA_DIR='/media/ritik/Ritik/cse_work/dl/Grammer/preprocess/data'"
   ]
  },
  {
   "cell_type": "code",
   "execution_count": 46,
   "metadata": {},
   "outputs": [
    {
     "data": {
      "text/plain": [
       "'/home/ritik/anaconda3/envs/grammer/bin'"
      ]
     },
     "execution_count": 46,
     "metadata": {},
     "output_type": "execute_result"
    }
   ],
   "source": [
    "import sys, os\n",
    "os.path.dirname(sys.executable)"
   ]
  },
  {
   "cell_type": "code",
   "execution_count": 47,
   "metadata": {},
   "outputs": [],
   "source": [
    "# path to scripts directories\n",
    "M2_SCRIPTS=ROOT_DIR + '/preprocess/nucle'\n",
    "LANG8_SCRIPTS=ROOT_DIR + '/preprocess/lang8'\n",
    "CLEAN_SCRIPTS=ROOT_DIR + '/preprocess'\n",
    "TYPO_SCRIPTS=ROOT_DIR + '/preprocess'"
   ]
  },
  {
   "cell_type": "code",
   "execution_count": 48,
   "metadata": {},
   "outputs": [
    {
     "name": "stdout",
     "output_type": "stream",
     "text": [
      "/media/ritik/Ritik/cse_work/dl/Grammer/preprocess/nucle\n"
     ]
    }
   ],
   "source": [
    "print(M2_SCRIPTS)"
   ]
  },
  {
   "cell_type": "code",
   "execution_count": 49,
   "metadata": {},
   "outputs": [],
   "source": [
    "import import_ipynb"
   ]
  },
  {
   "cell_type": "code",
   "execution_count": 51,
   "metadata": {},
   "outputs": [
    {
     "name": "stdout",
     "output_type": "stream",
     "text": [
      "/media/ritik/Ritik/cse_work/dl/Grammer/data/conll13st-preprocessed.m2\n",
      "/media/ritik/Ritik/cse_work/dl/Grammer/data/nucle/nucle-train.tok.src\n",
      "/media/ritik/Ritik/cse_work/dl/Grammer/data/conll13st-preprocessed.m2\n"
     ]
    }
   ],
   "source": [
    "from lang8 import convert_to_parallel_3\n",
    "input_path=ROOT_DIR + '/data/conll13st-preprocessed.m2'\n",
    "output_src=ROOT_DIR + '/data/nucle/nucle-train.tok.src'\n",
    "output_trg=ROOT_DIR + '/data/nucle/nucle-train.tok.trg'\n",
    "print(input_path)\n",
    "print(output_src)\n",
    "\n",
    "convert_to_parallel_3.process(input_path, output_src, output_trg)"
   ]
  },
  {
   "cell_type": "code",
   "execution_count": 5,
   "metadata": {},
   "outputs": [
    {
     "ename": "SyntaxError",
     "evalue": "invalid syntax (<ipython-input-5-d55413d574b4>, line 3)",
     "output_type": "error",
     "traceback": [
      "\u001b[0;36m  File \u001b[0;32m\"<ipython-input-5-d55413d574b4>\"\u001b[0;36m, line \u001b[0;32m3\u001b[0m\n\u001b[0;31m    $M2_SCRIPTS/convert_m2_to_parallel.py   --input_path=$ROOT_DIR/data/conll13st-preprocessed.m2 \\\u001b[0m\n\u001b[0m    ^\u001b[0m\n\u001b[0;31mSyntaxError\u001b[0m\u001b[0;31m:\u001b[0m invalid syntax\n"
     ]
    }
   ],
   "source": [
    "# create parallel data\n",
    "\n",
    "$M2_SCRIPTS/convert_m2_to_parallel.py   --input_path=$ROOT_DIR/data/conll13st-preprocessed.m2 \\\n",
    "                                     --output_src=$ROOT_DIR/data/nucle/nucle-train.tok.src \\\n",
    "                                     --output_trg=$ROOT_DIR/data/nucle/nucle-train.tok.trg\n",
    "\n",
    "$LANG8_SCRIPTS/convert_to_parallel.py   --input_path=$ROOT_DIR/data/entries.train \\\n",
    "                                     --output_src=$ROOT_DIR/data/lang-8/lang-8.tok.src \\\n",
    "                                     --output_trg=$ROOT_DIR/data/lang-8/lang-8.tok.trg\n"
   ]
  },
  {
   "cell_type": "code",
   "execution_count": null,
   "metadata": {},
   "outputs": [],
   "source": []
  }
 ],
 "metadata": {
  "kernelspec": {
   "display_name": "Python (Grammer)",
   "language": "python",
   "name": "grammer"
  },
  "language_info": {
   "codemirror_mode": {
    "name": "ipython",
    "version": 3
   },
   "file_extension": ".py",
   "mimetype": "text/x-python",
   "name": "python",
   "nbconvert_exporter": "python",
   "pygments_lexer": "ipython3",
   "version": "3.6.10"
  }
 },
 "nbformat": 4,
 "nbformat_minor": 2
}
